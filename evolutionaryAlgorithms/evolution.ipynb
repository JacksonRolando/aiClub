{
 "cells": [
  {
   "cell_type": "markdown",
   "metadata": {},
   "source": [
    "# AI Club Evolutionary Algorithm Workshop"
   ]
  },
  {
   "cell_type": "markdown",
   "metadata": {},
   "source": [
    "## Lets start with a couple of questions\n",
    "- \"So what the heck is an evolutionary algorithm?\"\n",
    "  - There are many types of programs that fall into the 'evolutionary algorithm' category. It is the umbrella term for all computational models that are inspired by evolutionary mechanisms. The most important implementations are Genetic Algorithms (GAs), Genetic Programming (GP), Evolutionary Programming (EP), and Classifier Systems and Artificial Life (AL); but these distinctions are not important for what we're doing\n",
    "- \"What's the goal?\"\n",
    "  - In EAs we have a fitness function that measures how well an individual performs, more fit individuals are seen as better. When we describe our fitness functions we usually do it as a measure of how well our goal was acheived. Therefore we can evolve our algorithm to do anything we can measure.\n",
    "- \"How does it work?\"\n",
    "  - ![title](EA.png)\n",
    "  - Note that we are leaving out crossover for simplicity\n",
    "- For more detailed explanations, check out these links\n",
    "  - https://www.kip.uni-heidelberg.de/vision/previous-projects/evolvable-hardware/evolutionary-algorithms/\n",
    "  - https://en.wikipedia.org/wiki/Evolutionary_algorithm\n",
    "  - https://towardsdatascience.com/introduction-to-evolutionary-algorithms-a8594b484ac\n"
   ]
  },
  {
   "cell_type": "markdown",
   "metadata": {},
   "source": [
    "We'll start by importing some important libraries we'll be needing\n",
    "- tkinter - A GUI framework that we'll be using to display our algorithm\n",
    "  - tkinter is simple and typically used for forms and simple guis, a more popular option is pygame\n",
    "- math - this gives us extra functions for trig \n",
    "- random - this gives us capabilities to generate random numbers<br/><br/>\n",
    "All of these libraries are part of the python standard library so no installs should be required"
   ]
  },
  {
   "cell_type": "code",
   "execution_count": 1,
   "metadata": {},
   "outputs": [],
   "source": [
    "import tkinter as tk\n",
    "from tkinter.font import BOLD, Font\n",
    "import math\n",
    "import random"
   ]
  },
  {
   "cell_type": "markdown",
   "metadata": {},
   "source": [
    "First lets go ahead and make ourselves a function to help us later on\n",
    "\n",
    "We'll need to be able to find which piece of food is closest to a bug at any time<br/>\n",
    "Therefore, we should be able to take in a position, and with a list of objects, find the one that is closes"
   ]
  },
  {
   "cell_type": "code",
   "execution_count": 2,
   "metadata": {},
   "outputs": [],
   "source": [
    "# In python, we can create variables to hold functions, this is really nice for things like common math functions\n",
    "# This variable will hold a calculation for euclidian distance between points\n",
    "euclid_dist = lambda pos1, pos2: ((pos1[0] - pos2[0])**2 + (pos1[1] - pos2[1])**2) ** (1/2)\n",
    "get_angle = lambda pos1, pos2: math.radians(math.atan2(pos1[1] - pos2[1], pos1[0] - pos2[0]))\n",
    "\n",
    "def get_closest(pos, objs):\n",
    "    #euclid_dist = lambda pos1, pos2: abs(pos1[0] - pos2[0]) + abs(pos1[1] - pos2[1])\n",
    "    # We can say the first object in our list is the closest one for now\n",
    "    nearest = objs[0]\n",
    "    nearest_distance = euclid_dist(pos, nearest.pos)\n",
    "\n",
    "    # Then, for all the objects in our list, we want to check if their euclidian distance is closer than all the previous objects\n",
    "    # If it is, then we set the nearest object to the new object, and return the closest one\n",
    "    for obj in objs:\n",
    "        distance = euclid_dist(pos, obj.pos)\n",
    "        if distance < nearest_distance:\n",
    "            nearest_distance = distance\n",
    "            nearest = obj\n",
    "    return nearest"
   ]
  },
  {
   "cell_type": "markdown",
   "metadata": {},
   "source": [
    "Next we'll be making classes for our \"Food\" and \"Bug\"s</br>\n",
    "We'll be starting with the food class as the Bug class will depend on it</br>\n",
    "\n",
    "- In python, the constructor of a class is always the function init pre and postceeded by two underscores\n",
    "- Our food will have \n",
    "  - A point value (to give to the bugs when they 'eat' the food)\n",
    "  - A position on our playing field\n",
    "  - A shape associated with them so that we can draw it onto our screen\n",
    "  - A canvas associated with them so that we can draw the shape onto it\n",
    "- The hide function will act as a way to remove the food from the screen"
   ]
  },
  {
   "cell_type": "code",
   "execution_count": 3,
   "metadata": {},
   "outputs": [],
   "source": [
    "class Food:\n",
    "    def __init__(self, points, pos, oval, canvas):\n",
    "        self.points = points\n",
    "        self.pos = pos\n",
    "        self.shape = oval\n",
    "        self.canvas = canvas\n",
    "\n",
    "    def hide(self):\n",
    "        self.canvas.delete(self.shape)"
   ]
  },
  {
   "cell_type": "markdown",
   "metadata": {},
   "source": [
    "Next we'll make the bug class, this one is a little more complicated so the descriptions will be in comments in the cell block below"
   ]
  },
  {
   "cell_type": "code",
   "execution_count": 4,
   "metadata": {},
   "outputs": [],
   "source": [
    "class Bug:\n",
    "    # Just like the food, we'll need to create a constructor for the bugs\n",
    "    # However, we also now have a speed attribute for how fast the bugs can move\n",
    "    # This attribute is what we will 'evolve' with our algorithm\n",
    "    def __init__(self, pos, speed, shape, canvas):\n",
    "        self.pos = pos\n",
    "        self.speed = speed\n",
    "        self.shape = shape\n",
    "        self.canvas = canvas\n",
    "        self._score = 0\n",
    "\n",
    "    # In python when we want to mark a variable as private we give it an understore at the start of it's name\n",
    "    # Then if we want to get or set that variable, we create functions to access it\n",
    "    # Note that the variable isn't actually private, we just expect people to treat it as such\n",
    "    # It's also very uncommon to use setters and getters in python, we're just doig it here to demonstrate how private variables are done\n",
    "    def get_score(self):\n",
    "        return self._score\n",
    "\n",
    "    def add_points(self, points):\n",
    "        self._score += points\n",
    "\n",
    "    def hide(self):\n",
    "        self.canvas.delete(self.shape)\n",
    "\n",
    "    def move(self, food_list):\n",
    "        if len(food_list) > 0:\n",
    "            nearest = get_closest(self.pos, food_list)\n",
    "            # If the distance to a piece of food is less than our speed, lets eat the food\n",
    "            dist = euclid_dist(self.pos, nearest.pos)\n",
    "            if dist <= self.speed:\n",
    "                x = (nearest.pos[0] - self.pos[0]) / dist\n",
    "                y = (nearest.pos[1] - self.pos[1]) / dist\n",
    "                self.canvas.move(self.shape, x, y)\n",
    "                self.pos = (self.pos[0]+x, self.pos[1]+y)\n",
    "                self.add_points(nearest.points)\n",
    "                return nearest\n",
    "            # If not, move towards the food\n",
    "            else:\n",
    "                dist = dist\n",
    "                x = self.speed * (nearest.pos[0] - self.pos[0]) / dist\n",
    "                y = self.speed * (nearest.pos[1] - self.pos[1]) / dist\n",
    "\n",
    "                self.canvas.move(self.shape, x, y)\n",
    "                self.pos = (self.pos[0]+x, self.pos[1]+y)\n"
   ]
  },
  {
   "cell_type": "markdown",
   "metadata": {},
   "source": [
    "In order to evlove our population we'll need to collect all of the bugs with the highest scores\n",
    "\n",
    "So we'll sort them by score and grab the top however many we want to keep (4 in this case)"
   ]
  },
  {
   "cell_type": "code",
   "execution_count": 5,
   "metadata": {},
   "outputs": [],
   "source": [
    "def get_best_bugs(bugs):\n",
    "    best = []\n",
    "    scores = []\n",
    "    for bug in bugs:\n",
    "        scores += [bug.get_score()]\n",
    "\n",
    "    scores.sort(reverse=True)\n",
    "    scores = scores[:10]\n",
    "\n",
    "    for bug in bugs:\n",
    "        if bug.get_score() in scores and len(best) < 4:\n",
    "            best += [bug]\n",
    "\n",
    "    return best"
   ]
  },
  {
   "cell_type": "markdown",
   "metadata": {},
   "source": [
    "This will help us remove all of the old food and bugs when we go to our next generation"
   ]
  },
  {
   "cell_type": "code",
   "execution_count": 6,
   "metadata": {},
   "outputs": [],
   "source": [
    "def hide_all(bugs, foods, window):\n",
    "    for bug in bugs:\n",
    "        bug.hide()\n",
    "\n",
    "    for food in foods:\n",
    "        food.hide()\n",
    "\n",
    "    window.update()"
   ]
  },
  {
   "cell_type": "markdown",
   "metadata": {},
   "source": [
    "This will generate a new piece of food at a random location for us"
   ]
  },
  {
   "cell_type": "code",
   "execution_count": 7,
   "metadata": {},
   "outputs": [],
   "source": [
    "def new_food(food_num, food_list, canvas):\n",
    "    for i in range(food_num):\n",
    "        radius = 5\n",
    "        pos = (random.random()*1600, random.random()*900)\n",
    "        oval=canvas.create_oval(pos[0]-radius, pos[1]-radius, pos[0]+radius, pos[1]+radius, fill='green')\n",
    "        food_list += [Food(1, pos, oval, canvas)]\n",
    "\n",
    "    canvas.pack()"
   ]
  },
  {
   "cell_type": "markdown",
   "metadata": {},
   "source": [
    "This function will create a new generation for us<br/>\n",
    "If we provide a set of best_bugs then we know to mutate them, if not then this must be the first generation and we'll need to initialize everything"
   ]
  },
  {
   "cell_type": "code",
   "execution_count": 8,
   "metadata": {},
   "outputs": [],
   "source": [
    "def new_gen(canvas, win, best_bugs=None):\n",
    "    radius = 5\n",
    "    mutation_rate = 1.5\n",
    "    bugs = []\n",
    "    food = []\n",
    "\n",
    "    new_food(600, food, canvas)\n",
    "\n",
    "    if best_bugs is None:\n",
    "        for i in range(20):\n",
    "            pos = (0, random.random()*900)\n",
    "            speed = random.random()*1\n",
    "            oval=canvas.create_oval(pos[0]-radius, pos[1]-radius, pos[0]+radius, pos[1]+radius, fill='blue')\n",
    "            bugs += [Bug(pos, speed, oval, canvas)]\n",
    "        canvas.pack()\n",
    "    else:\n",
    "        speeds = []\n",
    "        for bug in best_bugs:\n",
    "            pos = (0, random.random()*900)\n",
    "            speed = bug.speed\n",
    "            speeds += [speed]\n",
    "            oval=canvas.create_oval(pos[0]-radius, pos[1]-radius, pos[0]+radius, pos[1]+radius, fill='blue')\n",
    "            bugs += [Bug(pos, speed, oval, canvas)]\n",
    "\n",
    "        # Display some stats and whatnot\n",
    "        av_speed = sum(speeds)/len(speeds)\n",
    "        font = Font(win, size=15)\n",
    "        label = tk.Label(win, text=\"Avg top 20% speed: {:.2f}\".format(av_speed), font=font)\n",
    "        label.place(x=1, y=100)\n",
    "\n",
    "        # Create 20 new bugs that are mutated off of the best ones\n",
    "        for i in range(20-(len(bugs))):\n",
    "            pos = (0, random.random()*900)\n",
    "            # This is our simplistic mutation function\n",
    "            speed =  av_speed + random.random()*mutation_rate - random.random()*mutation_rate\n",
    "            oval=canvas.create_oval(pos[0]-radius, pos[1]-radius, pos[0]+radius, pos[1]+radius, fill='blue')\n",
    "            bugs += [Bug(pos, speed, oval, canvas)]\n",
    "\n",
    "        canvas.pack()\n",
    "    return bugs, food"
   ]
  },
  {
   "cell_type": "markdown",
   "metadata": {},
   "source": [
    "This function will move us ahead one point in time (so move the bugs a little bit and check for collisions)"
   ]
  },
  {
   "cell_type": "code",
   "execution_count": 9,
   "metadata": {},
   "outputs": [],
   "source": [
    "def tick(win, bugs, food_list):\n",
    "    for b in bugs:\n",
    "        ret_val = b.move(food_list)\n",
    "        if ret_val != None:\n",
    "            food_list.remove(ret_val)\n",
    "            ret_val.hide()\n",
    "\n",
    "    win.update()"
   ]
  },
  {
   "cell_type": "code",
   "execution_count": 10,
   "metadata": {},
   "outputs": [],
   "source": [
    "# You can figure out this one, I believe in you\n",
    "def run_generation(win, bugs, food_list, canvas):\n",
    "    while len(food_list) > 0:\n",
    "        tick(win, bugs, food_list)"
   ]
  },
  {
   "cell_type": "markdown",
   "metadata": {},
   "source": [
    "Finally we can put everything together and start watching our bugs evolve (if you run this cell and don't see anything, check your taskbar for a new window)"
   ]
  },
  {
   "cell_type": "code",
   "execution_count": 11,
   "metadata": {},
   "outputs": [
    {
     "ename": "TclError",
     "evalue": "invalid command name \".!canvas\"",
     "output_type": "error",
     "traceback": [
      "\u001b[0;31m---------------------------------------------------------------------------\u001b[0m",
      "\u001b[0;31mTclError\u001b[0m                                  Traceback (most recent call last)",
      "Cell \u001b[0;32mIn [11], line 16\u001b[0m\n\u001b[1;32m     14\u001b[0m label \u001b[38;5;241m=\u001b[39m tk\u001b[38;5;241m.\u001b[39mLabel(win, text\u001b[38;5;241m=\u001b[39m\u001b[38;5;124m\"\u001b[39m\u001b[38;5;124mGen \u001b[39m\u001b[38;5;124m\"\u001b[39m\u001b[38;5;241m+\u001b[39m\u001b[38;5;28mstr\u001b[39m(i\u001b[38;5;241m+\u001b[39m\u001b[38;5;241m1\u001b[39m)\u001b[38;5;241m+\u001b[39m\u001b[38;5;124m\"\u001b[39m\u001b[38;5;124m/\u001b[39m\u001b[38;5;124m\"\u001b[39m \u001b[38;5;241m+\u001b[39m \u001b[38;5;28mstr\u001b[39m(generations), font\u001b[38;5;241m=\u001b[39mfont)\n\u001b[1;32m     15\u001b[0m label\u001b[38;5;241m.\u001b[39mplace(x\u001b[38;5;241m=\u001b[39m\u001b[38;5;241m1\u001b[39m, y\u001b[38;5;241m=\u001b[39m\u001b[38;5;241m1\u001b[39m)\n\u001b[0;32m---> 16\u001b[0m \u001b[43mrun_generation\u001b[49m\u001b[43m(\u001b[49m\u001b[43mwin\u001b[49m\u001b[43m,\u001b[49m\u001b[43m \u001b[49m\u001b[43mbugs\u001b[49m\u001b[43m,\u001b[49m\u001b[43m \u001b[49m\u001b[43mfood\u001b[49m\u001b[43m,\u001b[49m\u001b[43m \u001b[49m\u001b[43mcanvas\u001b[49m\u001b[43m)\u001b[49m\n\u001b[1;32m     17\u001b[0m best_bugs \u001b[38;5;241m=\u001b[39m get_best_bugs(bugs)\n\u001b[1;32m     18\u001b[0m hide_all(bugs, food, win)\n",
      "Cell \u001b[0;32mIn [10], line 4\u001b[0m, in \u001b[0;36mrun_generation\u001b[0;34m(win, bugs, food_list, canvas)\u001b[0m\n\u001b[1;32m      2\u001b[0m \u001b[38;5;28;01mdef\u001b[39;00m \u001b[38;5;21mrun_generation\u001b[39m(win, bugs, food_list, canvas):\n\u001b[1;32m      3\u001b[0m     \u001b[38;5;28;01mwhile\u001b[39;00m \u001b[38;5;28mlen\u001b[39m(food_list) \u001b[38;5;241m>\u001b[39m \u001b[38;5;241m0\u001b[39m:\n\u001b[0;32m----> 4\u001b[0m         \u001b[43mtick\u001b[49m\u001b[43m(\u001b[49m\u001b[43mwin\u001b[49m\u001b[43m,\u001b[49m\u001b[43m \u001b[49m\u001b[43mbugs\u001b[49m\u001b[43m,\u001b[49m\u001b[43m \u001b[49m\u001b[43mfood_list\u001b[49m\u001b[43m)\u001b[49m\n",
      "Cell \u001b[0;32mIn [9], line 3\u001b[0m, in \u001b[0;36mtick\u001b[0;34m(win, bugs, food_list)\u001b[0m\n\u001b[1;32m      1\u001b[0m \u001b[38;5;28;01mdef\u001b[39;00m \u001b[38;5;21mtick\u001b[39m(win, bugs, food_list):\n\u001b[1;32m      2\u001b[0m     \u001b[38;5;28;01mfor\u001b[39;00m b \u001b[38;5;129;01min\u001b[39;00m bugs:\n\u001b[0;32m----> 3\u001b[0m         ret_val \u001b[38;5;241m=\u001b[39m \u001b[43mb\u001b[49m\u001b[38;5;241;43m.\u001b[39;49m\u001b[43mmove\u001b[49m\u001b[43m(\u001b[49m\u001b[43mfood_list\u001b[49m\u001b[43m)\u001b[49m\n\u001b[1;32m      4\u001b[0m         \u001b[38;5;28;01mif\u001b[39;00m ret_val \u001b[38;5;241m!=\u001b[39m \u001b[38;5;28;01mNone\u001b[39;00m:\n\u001b[1;32m      5\u001b[0m             food_list\u001b[38;5;241m.\u001b[39mremove(ret_val)\n",
      "Cell \u001b[0;32mIn [4], line 43\u001b[0m, in \u001b[0;36mBug.move\u001b[0;34m(self, food_list)\u001b[0m\n\u001b[1;32m     40\u001b[0m x \u001b[38;5;241m=\u001b[39m \u001b[38;5;28mself\u001b[39m\u001b[38;5;241m.\u001b[39mspeed \u001b[38;5;241m*\u001b[39m (nearest\u001b[38;5;241m.\u001b[39mpos[\u001b[38;5;241m0\u001b[39m] \u001b[38;5;241m-\u001b[39m \u001b[38;5;28mself\u001b[39m\u001b[38;5;241m.\u001b[39mpos[\u001b[38;5;241m0\u001b[39m]) \u001b[38;5;241m/\u001b[39m dist\n\u001b[1;32m     41\u001b[0m y \u001b[38;5;241m=\u001b[39m \u001b[38;5;28mself\u001b[39m\u001b[38;5;241m.\u001b[39mspeed \u001b[38;5;241m*\u001b[39m (nearest\u001b[38;5;241m.\u001b[39mpos[\u001b[38;5;241m1\u001b[39m] \u001b[38;5;241m-\u001b[39m \u001b[38;5;28mself\u001b[39m\u001b[38;5;241m.\u001b[39mpos[\u001b[38;5;241m1\u001b[39m]) \u001b[38;5;241m/\u001b[39m dist\n\u001b[0;32m---> 43\u001b[0m \u001b[38;5;28;43mself\u001b[39;49m\u001b[38;5;241;43m.\u001b[39;49m\u001b[43mcanvas\u001b[49m\u001b[38;5;241;43m.\u001b[39;49m\u001b[43mmove\u001b[49m\u001b[43m(\u001b[49m\u001b[38;5;28;43mself\u001b[39;49m\u001b[38;5;241;43m.\u001b[39;49m\u001b[43mshape\u001b[49m\u001b[43m,\u001b[49m\u001b[43m \u001b[49m\u001b[43mx\u001b[49m\u001b[43m,\u001b[49m\u001b[43m \u001b[49m\u001b[43my\u001b[49m\u001b[43m)\u001b[49m\n\u001b[1;32m     44\u001b[0m \u001b[38;5;28mself\u001b[39m\u001b[38;5;241m.\u001b[39mpos \u001b[38;5;241m=\u001b[39m (\u001b[38;5;28mself\u001b[39m\u001b[38;5;241m.\u001b[39mpos[\u001b[38;5;241m0\u001b[39m]\u001b[38;5;241m+\u001b[39mx, \u001b[38;5;28mself\u001b[39m\u001b[38;5;241m.\u001b[39mpos[\u001b[38;5;241m1\u001b[39m]\u001b[38;5;241m+\u001b[39my)\n",
      "File \u001b[0;32m/usr/lib/python3.8/tkinter/__init__.py:2920\u001b[0m, in \u001b[0;36mCanvas.move\u001b[0;34m(self, *args)\u001b[0m\n\u001b[1;32m   2918\u001b[0m \u001b[39mdef\u001b[39;00m \u001b[39mmove\u001b[39m(\u001b[39mself\u001b[39m, \u001b[39m*\u001b[39margs):\n\u001b[1;32m   2919\u001b[0m     \u001b[39m\"\"\"Move an item TAGORID given in ARGS.\"\"\"\u001b[39;00m\n\u001b[0;32m-> 2920\u001b[0m     \u001b[39mself\u001b[39;49m\u001b[39m.\u001b[39;49mtk\u001b[39m.\u001b[39;49mcall((\u001b[39mself\u001b[39;49m\u001b[39m.\u001b[39;49m_w, \u001b[39m'\u001b[39;49m\u001b[39mmove\u001b[39;49m\u001b[39m'\u001b[39;49m) \u001b[39m+\u001b[39;49m args)\n",
      "\u001b[0;31mTclError\u001b[0m: invalid command name \".!canvas\""
     ]
    }
   ],
   "source": [
    "win = tk.Tk()\n",
    "generations = 30\n",
    "\n",
    "canvas = tk.Canvas(win, width=1600, height=900)\n",
    "\n",
    "font = Font(win, size=35, weight=BOLD)\n",
    "\n",
    "while True:\n",
    "    bugs, food = new_gen(canvas, win)\n",
    "\n",
    "    canvas.pack()\n",
    "\n",
    "    for i in range(generations):\n",
    "        label = tk.Label(win, text=\"Gen \"+str(i+1)+\"/\" + str(generations), font=font)\n",
    "        label.place(x=1, y=1)\n",
    "        run_generation(win, bugs, food, canvas)\n",
    "        best_bugs = get_best_bugs(bugs)\n",
    "        hide_all(bugs, food, win)\n",
    "        bugs, food = new_gen(canvas, win, best_bugs=best_bugs)\n",
    "\n",
    "    hide_all(bugs, food, win)"
   ]
  },
  {
   "cell_type": "markdown",
   "metadata": {},
   "source": [
    "# Challenges\n",
    "Be sure to show the challenges you complete to an eboard member to get challenge tickets<br/>\n",
    "The challenges are each worth 1, 2, and 3 tickets, respectively\n",
    "## Easy \n",
    "- In the articles linked at the start of this workshop, you may have noticed that they talk about something called crossover. Crossover helps take genes from multiple of the best bugs and combining them to get a mutation. Currently we are mutating direct copies of the parents, can you come up with a way to combine genes from the parents to create more unique offspring?\n",
    "## Medium\n",
    "- Right now we have only a single fitness function as the Bugs only need to collect food. However, you may have noticed in the three articles linked at the start of this notebook (I particularly like the third ones explanation), that we can have multiple fitness functions for different objectives.\n",
    "  - What if we added another type of resource that they needed to collect? (ie, water). Can you implement a new type of resource, with a separate score and fitness function, and include that in the evolution of the Bugs? (How can we have this help create new crossover combinations? Or even more unique mutations?)\n",
    "## Hard\n",
    "- In evolutionary algorithms the parents with the best fitness can sometimes be flukes who just got lucky, therefore we can introduce a retention where we keep at least one offspring from different families. In the first evolution, we have at least two members of each family, then the best performing families gain another, and the worst performing families lose a member in proportional amounts (ie, if we gain 3 total we also lose 3 total).\n",
    "  - Can you implement a system where the bugs are put into families and make it so that families never completely die off?\n",
    "  - In order to see that families never die off, we should cap how far a specific familiy can evolve (ie, generate a random cap on the speed they can evolve to between 2 and 40)"
   ]
  }
 ],
 "metadata": {
  "kernelspec": {
   "display_name": "Python 3.8.10 64-bit",
   "language": "python",
   "name": "python3"
  },
  "language_info": {
   "codemirror_mode": {
    "name": "ipython",
    "version": 3
   },
   "file_extension": ".py",
   "mimetype": "text/x-python",
   "name": "python",
   "nbconvert_exporter": "python",
   "pygments_lexer": "ipython3",
   "version": "3.8.10"
  },
  "orig_nbformat": 4,
  "vscode": {
   "interpreter": {
    "hash": "916dbcbb3f70747c44a77c7bcd40155683ae19c65e1c03b4aa3499c5328201f1"
   }
  }
 },
 "nbformat": 4,
 "nbformat_minor": 2
}
