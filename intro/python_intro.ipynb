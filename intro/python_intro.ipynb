{
 "cells": [
  {
   "cell_type": "markdown",
   "metadata": {},
   "source": [
    "# MAIC Python Introduction\n",
    "\n",
    "This notebook will walk you through all of the basics of python assuming that there is no prior knowledge"
   ]
  },
  {
   "cell_type": "markdown",
   "metadata": {},
   "source": [
    "#### Importing libraries\n",
    "We'll often find ourselves needing utilities that are in libraries other people have made.\n",
    "\n",
    "If they're part of python's standard library we can import them as shown in the cell below. If not, then we can open a terminal and install them, then import them.\n",
    "\n",
    "To practice installing packages, hit Ctrl-Shift-` to open a new terminal and enter the command - pip install pandas\n",
    "\n",
    "If this returns an error along the lines of \"no module named pip\" and you're certain you hit the \"Add python to path\" button when installing python, try reopening VS Code or restarting your computer. If this still doesn't work reach out to an eboard member for help.\n",
    "\n",
    "After doing this you should be able to run the following cell. We first install os, which gives utilities for managing our system with python (making files, changing directories, etc). As well as pandas, a data organization and accelerated computation framework.\n",
    "\n",
    "You can run the following cell by highlighting it and clicking the arrow on the left of the cell, or py highlighting it and hitting Ctrl-Enter"
   ]
  },
  {
   "cell_type": "code",
   "execution_count": 5,
   "metadata": {},
   "outputs": [],
   "source": [
    "import os\n",
    "import pandas as pd"
   ]
  },
  {
   "cell_type": "markdown",
   "metadata": {},
   "source": [
    "If you see a green checkmark then everything worked! If you are unable to import pandas, try hitting the little restart button at the top of this page (Many times when you install a package you will have to restart a notebook in order to be able to import it)\n",
    "\n",
    "We can also install packages directly in the notebook by using a % followed by our command (note that this only works in a notebook and not a .py file)"
   ]
  },
  {
   "cell_type": "code",
   "execution_count": 6,
   "metadata": {},
   "outputs": [
    {
     "name": "stdout",
     "output_type": "stream",
     "text": [
      "Requirement already satisfied: numpy in /home/rolo/.local/lib/python3.8/site-packages (1.23.3)\n",
      "Note: you may need to restart the kernel to use updated packages.\n"
     ]
    }
   ],
   "source": [
    "%pip install numpy\n",
    "import numpy as np"
   ]
  },
  {
   "cell_type": "markdown",
   "metadata": {},
   "source": [
    "While languages that most learn to start with (like java) are object oriented, python is a functional programming language, meaning we don't need everything to live in classes.\n",
    "\n",
    "Classes can still be useful and have their place, but for the most part we use functions, or in jupyter notebooks, just start writing and running code in pieces.\n",
    "\n",
    "Python seperates blocks of code by indenting, our function starts with the colon, and includes all of the code indented by one, once the indent ends, the function ends"
   ]
  },
  {
   "cell_type": "code",
   "execution_count": 7,
   "metadata": {},
   "outputs": [
    {
     "name": "stdout",
     "output_type": "stream",
     "text": [
      "hello world!\n"
     ]
    }
   ],
   "source": [
    "def hello_world():\n",
    "    print('hello world!')\n",
    "\n",
    "hello_world()"
   ]
  },
  {
   "cell_type": "markdown",
   "metadata": {},
   "source": [
    "In the above cell, we made a function called hello_world which prints the string 'hello world!'\n",
    "\n",
    "We can also pass parameters to functions like so"
   ]
  },
  {
   "cell_type": "code",
   "execution_count": 8,
   "metadata": {},
   "outputs": [
    {
     "name": "stdout",
     "output_type": "stream",
     "text": [
      "hello your name!\n"
     ]
    }
   ],
   "source": [
    "def hello_name(name):\n",
    "    print('hello %s!' % name) # The %s allows us to input a parameter into a string\n",
    "                              # The octothor (#) symbol also allows us to write comments in our code\n",
    "hello_name('your name')"
   ]
  },
  {
   "cell_type": "markdown",
   "metadata": {},
   "source": [
    "Next you'll see that we can\n",
    "- Run different code using if else statements\n",
    "- Insert ' characters into strings using a \\\n",
    "- Compare variables with == operator\n",
    "- use if, elif, and else\n",
    "- save variables with the = operator\n",
    "- return values from functions using the return keyword\n",
    "\n",
    "A full list of python comparison operators can be found here: https://www.w3schools.com/python/gloss_python_comparison_operators.asp"
   ]
  },
  {
   "cell_type": "code",
   "execution_count": 9,
   "metadata": {},
   "outputs": [
    {
     "name": "stdout",
     "output_type": "stream",
     "text": [
      "We don't like Alex.\n",
      "We like Mike!\n",
      "I'm not sure how we feel about Bon.\n"
     ]
    }
   ],
   "source": [
    "def hello_name(name):\n",
    "    if name == 'Alex':\n",
    "        string_to_print = 'We don\\'t like %s.' % name\n",
    "    elif name == 'Mike':\n",
    "        string_to_print = 'We like %s!' % name\n",
    "    else:\n",
    "        string_to_print = 'I\\'m not sure how we feel about %s.' % name\n",
    "    return string_to_print\n",
    "\n",
    "print(hello_name('Alex'))\n",
    "print(hello_name('Mike'))\n",
    "print(hello_name('Bon'))"
   ]
  },
  {
   "cell_type": "markdown",
   "metadata": {},
   "source": [
    "Now we'll see that:\n",
    "- We can use the ! operator to get the opposite of a comparison\n",
    "- The or and and operators can combine comparisons\n",
    "- Parenthesis can help with the ordering of comparisons"
   ]
  },
  {
   "cell_type": "code",
   "execution_count": 10,
   "metadata": {},
   "outputs": [
    {
     "name": "stdout",
     "output_type": "stream",
     "text": [
      "Sorry, we can only accept Mike from this group\n",
      "Sorry, we can't accept your group\n",
      "We can accept everyone in your group\n"
     ]
    }
   ],
   "source": [
    "def hello_names(name1, name2):\n",
    "    if (name1 == 'Alex' or name2 == 'Alex') and (name1 == 'Mike' or name2 == 'Mike'):\n",
    "        return 'Sorry, we can only accept Mike from this group'\n",
    "    elif name1 == 'Alex' or name2 == 'Alex':\n",
    "        return 'Sorry, we can\\'t accept your group'\n",
    "    else:\n",
    "        return 'We can accept everyone in your group'\n",
    "\n",
    "print(hello_names('Alex', 'Mike'))\n",
    "print(hello_names('Alex', 'Bon'))\n",
    "print(hello_names('Mike', 'Bon'))"
   ]
  },
  {
   "cell_type": "markdown",
   "metadata": {},
   "source": [
    "In python we have a couple different data structures that can be used to hold data, they are\n",
    "- lists: a 'list' of elements that is ordered and can be changed (mutible)\n",
    "- tuples: an unmutable list\n",
    "- sets: a list with only unique values\n",
    "- dictionaries: a mapping of keys to values"
   ]
  },
  {
   "cell_type": "code",
   "execution_count": 11,
   "metadata": {},
   "outputs": [
    {
     "name": "stdout",
     "output_type": "stream",
     "text": [
      "['a', 'b', 'c']\n",
      "('a', 'b', 'c')\n",
      "{'a', 'b'}\n",
      "{'key1': 'a', 'key2': 'b'}\n"
     ]
    }
   ],
   "source": [
    "my_list = ['a', 'b', 'c']\n",
    "my_tuple = ('a', 'b', 'c')\n",
    "my_set = {'a', 'b', 'a'} # note that this will turn into {'a', 'b'} as we can only hold unique values in sets\n",
    "my_dictionary = {'key1':'a', 'key2':'b'}\n",
    "\n",
    "print(my_list)\n",
    "print(my_tuple)\n",
    "print(my_set)\n",
    "print(my_dictionary)"
   ]
  }
 ],
 "metadata": {
  "kernelspec": {
   "display_name": "Python 3.8.10 64-bit",
   "language": "python",
   "name": "python3"
  },
  "language_info": {
   "codemirror_mode": {
    "name": "ipython",
    "version": 3
   },
   "file_extension": ".py",
   "mimetype": "text/x-python",
   "name": "python",
   "nbconvert_exporter": "python",
   "pygments_lexer": "ipython3",
   "version": "3.8.10"
  },
  "orig_nbformat": 4,
  "vscode": {
   "interpreter": {
    "hash": "5b3ded1ccb95c1d9bd405e7b823d9e85424cde40fbb5985eb47e999ef50e15b4"
   }
  }
 },
 "nbformat": 4,
 "nbformat_minor": 2
}
